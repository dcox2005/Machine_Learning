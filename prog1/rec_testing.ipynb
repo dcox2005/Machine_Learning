{
 "cells": [
  {
   "cell_type": "markdown",
   "id": "ba81f13f-cc85-4b7a-b0d4-fe89ea2a683e",
   "metadata": {},
   "source": [
    "# You do not change this file.\n",
    "# Please go to the rec.py file and finish the class there by following the insturctions there."
   ]
  },
  {
   "cell_type": "code",
   "execution_count": 1,
   "id": "c901c77b-0794-4cd6-a9c9-ece8e0e26608",
   "metadata": {},
   "outputs": [
    {
     "name": "stdout",
     "output_type": "stream",
     "text": [
      "length: 10\n",
      "width: 5\n",
      "area: 50\n",
      "perimeter 30\n",
      "\n",
      "\n",
      "length: 15\n",
      "width: 10\n",
      "area: 150\n",
      "perimeter 50\n"
     ]
    }
   ],
   "source": [
    "import rec\n",
    "\n",
    "\n",
    "## Below are testing code and expected outputs. \n",
    "\n",
    "rec1 = rec.Rectangle(10,5)\n",
    "print('length:', rec1.length)\n",
    "print('width:', rec1.width)\n",
    "print('area:', rec1.area())\n",
    "print('perimeter', rec1.perimeter())\n",
    "print('\\n')\n",
    "\n",
    "rec1.modify(15,10)\n",
    "print('length:', rec1.length)\n",
    "print('width:', rec1.width)\n",
    "print('area:', rec1.area())\n",
    "print('perimeter', rec1.perimeter())\n"
   ]
  },
  {
   "cell_type": "markdown",
   "id": "917b7f3f-971a-498b-8392-5f4d2ba6347d",
   "metadata": {},
   "source": [
    "# The correct output should be the following: \n",
    "\n",
    "    length: 10\n",
    "    width: 5\n",
    "    area: 50\n",
    "    perimeter 30\n",
    "\n",
    "\n",
    "    length: 15\n",
    "    width: 10\n",
    "    area: 150\n",
    "    perimeter 50"
   ]
  },
  {
   "cell_type": "code",
   "execution_count": null,
   "id": "2f897e82-0a21-4af7-8719-1c3279b62462",
   "metadata": {},
   "outputs": [],
   "source": []
  }
 ],
 "metadata": {
  "kernelspec": {
   "display_name": "Python 3 (ipykernel)",
   "language": "python",
   "name": "python3"
  },
  "language_info": {
   "codemirror_mode": {
    "name": "ipython",
    "version": 3
   },
   "file_extension": ".py",
   "mimetype": "text/x-python",
   "name": "python",
   "nbconvert_exporter": "python",
   "pygments_lexer": "ipython3",
   "version": "3.9.7"
  }
 },
 "nbformat": 4,
 "nbformat_minor": 5
}
