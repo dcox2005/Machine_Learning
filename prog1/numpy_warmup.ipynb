{
 "cells": [
  {
   "cell_type": "markdown",
   "id": "1d34e970-3e53-48ab-a8a4-bb046ebd87d1",
   "metadata": {},
   "source": [
    "# Please write down your name and EWU ID here: David Cox 00284331"
   ]
  },
  {
   "cell_type": "markdown",
   "id": "ad147095-7e1d-48d7-b436-0a22a1f88dc3",
   "metadata": {},
   "source": [
    "## You are allowed and encouraged to search and get help from any resource, but write down the code by your own hands. "
   ]
  },
  {
   "cell_type": "code",
   "execution_count": 32,
   "id": "07521151-935b-4f34-a4f5-e7d0a5b17a1d",
   "metadata": {},
   "outputs": [],
   "source": [
    "import numpy as np\n",
    "import random"
   ]
  },
  {
   "cell_type": "markdown",
   "id": "53c14f19-9545-4ac2-bfb3-e4bb6ede457b",
   "metadata": {},
   "source": [
    "### Your work: \n",
    "\n",
    "Create a new cell right below this cell. In the new cell, write one or a few statements that create and print a $3 \\times 4$ (ie., 3 rows by 4 columns)  ndarray of random numbers from the range $[0,1)$. The result should be something similar to the following (numbers could be different): \n",
    "\n",
    "[[0.21559175 0.71091185 0.78264013 0.0816029 ]\n",
    "\n",
    " [0.86528926 0.43816422 0.9406306  0.54750664]\n",
    "\n",
    "[0.794279   0.48067576 0.97565906 0.72432521]]"
   ]
  },
  {
   "cell_type": "code",
   "execution_count": 33,
   "id": "30dbc1b5-dd7d-4fa1-b3dc-a7828dae8f08",
   "metadata": {},
   "outputs": [
    {
     "name": "stdout",
     "output_type": "stream",
     "text": [
      "[[0.36089813 0.12096744 0.0255579  0.11681435]\n",
      " [0.25359824 0.36237176 0.81025027 0.60128782]\n",
      " [0.30002235 0.17989129 0.08003108 0.86572361]]\n"
     ]
    }
   ],
   "source": [
    "twoDArray = np.array([[random.random(), random.random(), random.random(), random.random()], [random.random(), random.random(), random.random(), random.random()], [random.random(), random.random(), random.random(), random.random()]])\n",
    "print(twoDArray)"
   ]
  },
  {
   "cell_type": "code",
   "execution_count": 34,
   "id": "526f8512-9d2c-46db-bfef-aaf310060a65",
   "metadata": {},
   "outputs": [
    {
     "name": "stdout",
     "output_type": "stream",
     "text": [
      "[[1 2 3]\n",
      " [4 5 6]]\n"
     ]
    }
   ],
   "source": [
    "a = np.array([[1,2,3],[4,5,6]])\n",
    "print(a)"
   ]
  },
  {
   "cell_type": "markdown",
   "id": "ca38bbad-84b5-46cc-80f7-d865ea12de28",
   "metadata": {},
   "source": [
    "### Your work:\n",
    "Creat a new cell right below this cell. In the new cell, write one or a few statements that print the transpose of matrix $a$ defined above. The print should be looking like this: \n",
    "\n",
    "[[1 4]\n",
    "\n",
    " [2 5]\n",
    "\n",
    "[3 6]]"
   ]
  },
  {
   "cell_type": "code",
   "execution_count": 35,
   "id": "4c43b39a-2c4d-4590-951d-30b06c31bd6b",
   "metadata": {},
   "outputs": [
    {
     "name": "stdout",
     "output_type": "stream",
     "text": [
      "[[1 4]\n",
      " [2 5]\n",
      " [3 6]]\n"
     ]
    }
   ],
   "source": [
    "transposeA = np.transpose(a)\n",
    "print(transposeA)"
   ]
  },
  {
   "cell_type": "code",
   "execution_count": 36,
   "id": "8f9bbb26-2e51-402a-b6e5-11459e746cc5",
   "metadata": {},
   "outputs": [
    {
     "name": "stdout",
     "output_type": "stream",
     "text": [
      "[[ 1  2  3  4]\n",
      " [ 5  6  7  8]\n",
      " [ 9 10 11 12]]\n"
     ]
    }
   ],
   "source": [
    "b = np.array([[1,2,3,4],[5,6,7,8],[9,10,11,12]])\n",
    "print(b)"
   ]
  },
  {
   "cell_type": "markdown",
   "id": "7302ed9f-60c0-439d-8dd6-b0d0f440800d",
   "metadata": {},
   "source": [
    "### Your work:\n",
    "Creat a new cell right below this cell. In the new cell, write one or a few statements that print the multiplication of matrix a and matrix b that are definded above. The print should be looking like this: \n",
    "\n",
    "[[ 38  44  50  56]\n",
    "\n",
    " [ 83  98 113 128]]\n"
   ]
  },
  {
   "cell_type": "code",
   "execution_count": 37,
   "id": "8c33bdaa-0b09-464c-8803-b892697c202e",
   "metadata": {},
   "outputs": [
    {
     "name": "stdout",
     "output_type": "stream",
     "text": [
      "[[ 38  44  50  56]\n",
      " [ 83  98 113 128]]\n"
     ]
    }
   ],
   "source": [
    "multAB = np.matmul(a, b)\n",
    "print(multAB)"
   ]
  },
  {
   "cell_type": "code",
   "execution_count": 38,
   "id": "ac4d0fca-20a9-4345-87d2-79ff8b5b8175",
   "metadata": {},
   "outputs": [
    {
     "name": "stdout",
     "output_type": "stream",
     "text": [
      "[[10 20 30]\n",
      " [40 50 60]]\n"
     ]
    }
   ],
   "source": [
    "c = np.array([[10,20,30],[40,50,60]])\n",
    "print(c)"
   ]
  },
  {
   "cell_type": "markdown",
   "id": "72253551-161c-4280-94ef-a3cf917f03ac",
   "metadata": {},
   "source": [
    "### Your work:\n",
    "Creat a new cell right below this cell. In the new cell, write one or a few statements that print the element-wise (also called component-wise) multiplication of matrix a and matrix c that definded above. The print should be looking like this: \n",
    "\n",
    "[[ 10  40  90]\n",
    "\n",
    " [160 250 360]]"
   ]
  },
  {
   "cell_type": "code",
   "execution_count": 39,
   "id": "35bb74e8-e12f-43fd-ba2f-b8a47cd1f189",
   "metadata": {},
   "outputs": [
    {
     "name": "stdout",
     "output_type": "stream",
     "text": [
      "[[ 10  40  90]\n",
      " [160 250 360]]\n"
     ]
    }
   ],
   "source": [
    "elementMultAC = np.multiply(a, c)\n",
    "print(elementMultAC)"
   ]
  },
  {
   "cell_type": "markdown",
   "id": "c7c77d6b-7e6d-4643-8217-a5ba73a58e7c",
   "metadata": {},
   "source": [
    "### Your work:\n",
    "\n",
    "Creat a new cell right below this cell. In the new cell, write one or a few statements that add a new column to matrix b (the newly added column becomes the 0th column), and save the resuling new matrix to d (without changing b), then print d. The print should be looking like this: \n",
    "\n",
    "[[ 1  1  2  3  4]\n",
    "\n",
    " [ 1  5  6  7  8]\n",
    "\n",
    "[ 1  9 10 11 12]]\n",
    "\n",
    "Hint: Use np.insert() method. Search and read its document. "
   ]
  },
  {
   "cell_type": "code",
   "execution_count": 40,
   "id": "54ee9503-7d6f-4496-8e70-13cbe6e36b11",
   "metadata": {},
   "outputs": [
    {
     "name": "stdout",
     "output_type": "stream",
     "text": [
      "[[ 1  1  2  3  4]\n",
      " [ 1  5  6  7  8]\n",
      " [ 1  9 10 11 12]]\n"
     ]
    }
   ],
   "source": [
    "d = np.insert(b, 0, [1, 1, 1], axis=1)\n",
    "print(d)"
   ]
  },
  {
   "cell_type": "code",
   "execution_count": 52,
   "id": "ae3db0d9-52fe-4026-af9e-8cd1b5e50f42",
   "metadata": {},
   "outputs": [
    {
     "name": "stdout",
     "output_type": "stream",
     "text": [
      "[1 2 3]\n"
     ]
    }
   ],
   "source": [
    "e = np.array([1,2,3])\n",
    "print(e)"
   ]
  },
  {
   "cell_type": "markdown",
   "id": "b36ef756-d5af-46ea-bba1-ad8f56994aa0",
   "metadata": {},
   "source": [
    "### Your work:\n",
    "\n",
    "Creat a new cell right below this cell. In the new cell, write one or a few statements that prints the inverse of e. The result should be the following: \n",
    "\n",
    "    [[1]\n",
    "\n",
    "     [2]\n",
    "\n",
    "    [3]]\n",
    "\n",
    "Hint: Study the reshape function. You need to increase the ndim of the ndarray from 1 to 2, then the transpose function can work. "
   ]
  },
  {
   "cell_type": "code",
   "execution_count": 53,
   "id": "09a95240-06d9-49d4-8276-4002630c06a8",
   "metadata": {},
   "outputs": [
    {
     "name": "stdout",
     "output_type": "stream",
     "text": [
      "[[1]\n",
      " [2]\n",
      " [3]]\n"
     ]
    }
   ],
   "source": [
    "inverseE = np.reshape(e, (3,1))\n",
    "print(inverseE)"
   ]
  },
  {
   "cell_type": "code",
   "execution_count": null,
   "id": "9d21cefd-6dcb-4773-bded-c885361eb3d6",
   "metadata": {},
   "outputs": [],
   "source": []
  }
 ],
 "metadata": {
  "kernelspec": {
   "display_name": "Python 3 (ipykernel)",
   "language": "python",
   "name": "python3"
  },
  "language_info": {
   "codemirror_mode": {
    "name": "ipython",
    "version": 3
   },
   "file_extension": ".py",
   "mimetype": "text/x-python",
   "name": "python",
   "nbconvert_exporter": "python",
   "pygments_lexer": "ipython3",
   "version": "3.9.7"
  }
 },
 "nbformat": 4,
 "nbformat_minor": 5
}
