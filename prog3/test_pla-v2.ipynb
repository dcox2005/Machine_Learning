{
 "cells": [
  {
   "cell_type": "code",
   "execution_count": 1,
   "id": "8f33fa54-d3bf-4af8-9c18-f516fc6874f0",
   "metadata": {},
   "outputs": [
    {
     "ename": "ModuleNotFoundError",
     "evalue": "No module named 'misc'",
     "output_type": "error",
     "traceback": [
      "\u001b[1;31m---------------------------------------------------------------------------\u001b[0m",
      "\u001b[1;31mModuleNotFoundError\u001b[0m                       Traceback (most recent call last)",
      "\u001b[1;32m~\\AppData\\Local\\Temp/ipykernel_5984/3482206443.py\u001b[0m in \u001b[0;36m<module>\u001b[1;34m\u001b[0m\n\u001b[0;32m     10\u001b[0m \u001b[0msys\u001b[0m\u001b[1;33m.\u001b[0m\u001b[0mpath\u001b[0m\u001b[1;33m.\u001b[0m\u001b[0mappend\u001b[0m\u001b[1;33m(\u001b[0m\u001b[1;34m'..'\u001b[0m\u001b[1;33m)\u001b[0m\u001b[1;33m\u001b[0m\u001b[1;33m\u001b[0m\u001b[0m\n\u001b[0;32m     11\u001b[0m \u001b[1;33m\u001b[0m\u001b[0m\n\u001b[1;32m---> 12\u001b[1;33m \u001b[1;32mfrom\u001b[0m \u001b[0mmisc\u001b[0m\u001b[1;33m.\u001b[0m\u001b[0mutils\u001b[0m \u001b[1;32mimport\u001b[0m \u001b[0mMyUtils\u001b[0m\u001b[1;33m\u001b[0m\u001b[1;33m\u001b[0m\u001b[0m\n\u001b[0m",
      "\u001b[1;31mModuleNotFoundError\u001b[0m: No module named 'misc'"
     ]
    }
   ],
   "source": [
    "import numpy as np\n",
    "from IPython.display import clear_output\n",
    "from numpy.random import seed as seed\n",
    "from numpy.random import rand as rand\n",
    "import matplotlib.pyplot as plt\n",
    "import math\n",
    "\n",
    "import pla\n",
    "import sys\n",
    "sys.path.append('..')\n",
    "\n",
    "from utils import MyUtils"
   ]
  },
  {
   "cell_type": "code",
   "execution_count": null,
   "id": "1024232d-d9ab-49c3-86b7-c207d1bfd6d0",
   "metadata": {},
   "outputs": [],
   "source": [
    "seed()"
   ]
  },
  {
   "cell_type": "code",
   "execution_count": null,
   "id": "278c430e-2a8a-47ca-8233-4bc6921d197b",
   "metadata": {},
   "outputs": [],
   "source": [
    "n = 2 #number of samples\n",
    "epochs = 10"
   ]
  },
  {
   "cell_type": "code",
   "execution_count": null,
   "id": "f09cd1a8-c460-448d-bba1-1dbdf575035f",
   "metadata": {},
   "outputs": [],
   "source": [
    "r = 2  # Z space degree   #only support: degree <= 4 for demo purpose. Don't have time to code out the generic form for any degree"
   ]
  },
  {
   "cell_type": "code",
   "execution_count": null,
   "id": "e44c981c-7264-4d0d-b08b-1e2835434e4f",
   "metadata": {},
   "outputs": [],
   "source": [
    "delta = 0.01"
   ]
  },
  {
   "cell_type": "code",
   "execution_count": null,
   "id": "9092c62c-ea02-4a07-8caa-6fd2a347e16a",
   "metadata": {},
   "outputs": [],
   "source": [
    "# messed  = True       \n",
    "messed = False \n",
    "mess_percent = 0.02"
   ]
  },
  {
   "cell_type": "code",
   "execution_count": null,
   "id": "b9e19e56-3182-4302-b784-78c07a8d4a26",
   "metadata": {},
   "outputs": [],
   "source": [
    "def display_w_2D(w, color, degree = 1):\n",
    "    ''' only support: degree <= 4 for demo purpose\n",
    "        Don't have time to code out the generic form for any degree\n",
    "    '''\n",
    "    xrange = np.arange(0.0, 1.0, delta)\n",
    "    yrange = np.arange(0.0, 1.0, delta)\n",
    "    x1, x2 = np.meshgrid(xrange,yrange)\n",
    "    \n",
    "    if degree == 1:\n",
    "        F = w[0] + w[1] * x1 + w[2] * x2\n",
    "    elif degree == 2:\n",
    "        F = w[0] + w[1] * x1 + w[2] * x2 \\\n",
    "            + w[3] * x1 * x1 + w[4] * x1 * x2 + w[5] * x2 * x2                 \n",
    "    elif degree == 3:\n",
    "        F = w[0] + w[1] * x1 + w[2] * x2 \\\n",
    "            + w[3] * x1 * x1 + w[4] * x1 * x2 + w[5] * x2 * x2   \\\n",
    "            + w[6] * x1 * x1 * x1 + w[7] * x1 * x1 * x2 + w[8] * x1 * x2 * x2 + w[9] * x2 * x2 * x2    \n",
    "    elif degree == 4:\n",
    "        F = w[0] + w[1] * x1 + w[2] * x2 \\\n",
    "            + w[3] * x1 * x1 + w[4] * x1 * x2 + w[5] * x2 * x2   \\\n",
    "            + w[6] * x1 * x1 * x1 + w[7] * x1 * x1 * x2 + w[8] * x1 * x2 * x2 + w[9] * x2 * x2 * x2\\\n",
    "            + w[10] * x1 * x1 * x1 * x1 + w[11] * x1 * x1 * x1 * x2 + w[12] * x1 * x1 * x2 * x2 + w[13] * x1 * x2 * x2 * x2 + w[14] * x2 * x2 * x2 * x2\n",
    "\n",
    "    else:\n",
    "        print('Z space degree is too high. Not supported now\\n')\n",
    "        quit()\n",
    "\n",
    "    plt.contour(x1, x2, (F), [0], colors = color)"
   ]
  },
  {
   "cell_type": "code",
   "execution_count": null,
   "id": "c9b5c4a3-6595-4944-83cb-7241ad2cc9a4",
   "metadata": {},
   "outputs": [],
   "source": [
    "# generate a w_star, d = 2\n",
    "def w_star_gen_2d(degree = 1):\n",
    "    ''' only suppot degree <= 4 for demo purpose. \n",
    "        Don't have time to code out the generic form for any degree\n",
    "    '''\n",
    "    if degree == 1:\n",
    "        w_star = rand(3,1) * np.sign(rand(3,1)-0.5)\n",
    "    elif degree == 2:\n",
    "        w_star = rand(6,1) * np.sign(rand(6,1)-0.5)\n",
    "    elif degree == 3:\n",
    "        w_star = rand(10,1) * np.sign(rand(10,1)-0.5)\n",
    "    elif degree == 4:\n",
    "        w_star = rand(15,1) * np.sign(rand(15,1)-0.5)\n",
    "    \n",
    "    else:\n",
    "        print('Z space degree is too high. Not supported now\\n')\n",
    "        quit()\n",
    "\n",
    "    return w_star"
   ]
  },
  {
   "cell_type": "code",
   "execution_count": null,
   "id": "81d04e3f-8bb8-46b4-a1e4-00620f9bd01d",
   "metadata": {},
   "outputs": [],
   "source": [
    "# randomly generate a target weight vector the PLA is going to search for\n",
    "w_star = w_star_gen_2d(degree = r)\n",
    "display_w_2D(w_star, color='green', degree = r)\n",
    "print('w_star: \\n', w_star)"
   ]
  },
  {
   "cell_type": "code",
   "execution_count": null,
   "id": "52d5ecb4-8ca3-4e1c-96bf-51076ec636a2",
   "metadata": {},
   "outputs": [],
   "source": [
    "# randomly generate the features of n samples. \n",
    "X = rand(n,2) \n",
    "Z = MyUtils.z_transform(X, degree = r)\n",
    "Z = np.insert(Z, 0, 1, axis = 1)  # add the bias column\n",
    "\n",
    "#create the label array\n",
    "y = np.sign(Z @ w_star)\n",
    "to_delete = [] #index of rows to be deleted because those points sit on w_star\n",
    "for i in range(n):\n",
    "    if y[i] == 0:\n",
    "        to_delete.append(i)\n",
    "\n",
    "# delete those samples sitting right on w_star        \n",
    "X = np.delete(X, to_delete, axis = 0)\n",
    "Z = np.delete(Z, to_delete, axis = 0)\n",
    "y = np.delete(y, to_delete, axis = 0)\n",
    "n = n - len(to_delete)\n"
   ]
  },
  {
   "cell_type": "code",
   "execution_count": null,
   "id": "496790ec-9019-41d0-8668-2386b159b2f9",
   "metadata": {},
   "outputs": [],
   "source": [
    "# mess up mess_percent of the samples to test pocket pla      \n",
    "if messed: \n",
    "    for i in range(math.floor(n * mess_percent)):\n",
    "        pos = math.floor(rand()*n)\n",
    "        y[pos] = y[pos] * (-1)"
   ]
  },
  {
   "cell_type": "code",
   "execution_count": null,
   "id": "dba87bcd-1e20-48b4-a50f-2c8ca44ba01a",
   "metadata": {},
   "outputs": [],
   "source": [
    "# separate + and - samples for plotting     \n",
    "pos = np.empty([1,2])\n",
    "neg = np.empty([1,2])\n",
    "for i in range(n):\n",
    "    if y[i] == 1:\n",
    "        pos = np.insert(pos, 0, X[i], 0)\n",
    "    else: \n",
    "        neg = np.insert(neg, 0, X[i], 0)\n",
    "# delete the init/useless row which is on the bottom        \n",
    "pos = np.delete(pos, -1, 0)\n",
    "neg = np.delete(neg, -1, 0)"
   ]
  },
  {
   "cell_type": "code",
   "execution_count": null,
   "id": "a6d393b6-672e-443b-902a-c66c64fb1de5",
   "metadata": {},
   "outputs": [],
   "source": [
    "# display the data samples and the target classifier that PLA is tring to learn\n",
    "plt.scatter(pos[:,0], pos[:,1], marker='+')\n",
    "plt.scatter(neg[:,0], neg[:,1], marker='_')\n",
    "\n",
    "display_w_2D(w_star, color = 'green', degree = r)\n",
    "\n",
    "plt.xlabel('x1')\n",
    "plt.ylabel('x2')\n",
    "plt.show()"
   ]
  },
  {
   "cell_type": "code",
   "execution_count": null,
   "id": "db2d14db-a045-4991-86db-6446636a4535",
   "metadata": {},
   "outputs": [],
   "source": [
    "perceptron = pla.PLA()\n",
    "\n",
    "r_z = r\n",
    "\n",
    "if messed: \n",
    "    perceptron.fit(X, y, pocket = True, epochs = epochs, degree = r_z)\n",
    "else: \n",
    "    perceptron.fit(X, y, pocket = False, degree = r_z)\n",
    "\n",
    "print('w:\\n', perceptron.w)\n",
    "\n"
   ]
  },
  {
   "cell_type": "code",
   "execution_count": null,
   "id": "ce6be568-d9a0-4c35-9d60-19798770e209",
   "metadata": {},
   "outputs": [],
   "source": [
    "# display the data samples and the target classifier that PLA is tring to learn\n",
    "plt.scatter(pos[:,0], pos[:,1], marker='+')\n",
    "plt.scatter(neg[:,0], neg[:,1], marker='_')\n",
    "\n",
    "display_w_2D(w_star, color = 'green', degree = r)\n",
    "display_w_2D(perceptron.w, color = 'red', degree = r_z)\n",
    "\n",
    "plt.xlabel('x1')\n",
    "plt.ylabel('x2')\n",
    "plt.show()"
   ]
  },
  {
   "cell_type": "code",
   "execution_count": null,
   "id": "781d3221-d0a7-45f1-9f0c-5ddd2b144cbd",
   "metadata": {},
   "outputs": [],
   "source": [
    "print('misclassified counts:', perceptron.error(X,y))\n",
    "print('\\n')"
   ]
  }
 ],
 "metadata": {
  "kernelspec": {
   "display_name": "Python 3 (ipykernel)",
   "language": "python",
   "name": "python3"
  },
  "language_info": {
   "codemirror_mode": {
    "name": "ipython",
    "version": 3
   },
   "file_extension": ".py",
   "mimetype": "text/x-python",
   "name": "python",
   "nbconvert_exporter": "python",
   "pygments_lexer": "ipython3",
   "version": "3.9.7"
  }
 },
 "nbformat": 4,
 "nbformat_minor": 5
}
