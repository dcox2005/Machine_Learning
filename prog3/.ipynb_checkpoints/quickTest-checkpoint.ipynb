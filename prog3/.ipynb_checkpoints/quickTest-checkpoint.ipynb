{
 "cells": [
  {
   "cell_type": "code",
   "execution_count": 1,
   "id": "96832fb2-b18f-4ad0-a59a-0096d71e4b45",
   "metadata": {},
   "outputs": [],
   "source": [
    "import numpy as np\n",
    "import utils\n",
    "import time"
   ]
  },
  {
   "cell_type": "code",
   "execution_count": 2,
   "id": "19696f32-2374-4c67-83a6-9ab09562cec1",
   "metadata": {},
   "outputs": [],
   "source": [
    "X = np.array([[1,2,3,4,5], [2,3,4,5,6], [3,4,5,6,7]])\n",
    "degree = 20"
   ]
  },
  {
   "cell_type": "code",
   "execution_count": 3,
   "id": "40313eb2-a911-401b-9e45-a8c9deaea50f",
   "metadata": {},
   "outputs": [],
   "source": [
    "startTime = time.perf_counter()"
   ]
  },
  {
   "cell_type": "code",
   "execution_count": 4,
   "id": "9a98ddaf-4f2d-4f7f-b17d-907dfb0d95bc",
   "metadata": {},
   "outputs": [
    {
     "name": "stdout",
     "output_type": "stream",
     "text": [
      "[[          1           2           3 ...  -623993456 -1853733644\n",
      "   1977800241]\n",
      " [          2           3           4 ... -1065091072   439877632\n",
      "  -1190133760]\n",
      " [          3           4           5 ...   433376484 -1641877750\n",
      "  -1199696159]]\n"
     ]
    }
   ],
   "source": [
    "Z = utils.MyUtils.z_transform(X, degree)\n",
    "print(Z)"
   ]
  },
  {
   "cell_type": "code",
   "execution_count": 5,
   "id": "4651e74f-dd14-4252-8f04-a6be6720aeda",
   "metadata": {},
   "outputs": [
    {
     "name": "stdout",
     "output_type": "stream",
     "text": [
      "Elapsed Time:  1.21258\n"
     ]
    }
   ],
   "source": [
    "endTime = time.perf_counter()\n",
    "print(\"Elapsed Time: \", (endTime - startTime))"
   ]
  },
  {
   "cell_type": "code",
   "execution_count": 6,
   "id": "7d0a6bd7-61c9-4683-94ba-92bd84e7596c",
   "metadata": {},
   "outputs": [],
   "source": [
    "startTime = time.perf_counter()"
   ]
  },
  {
   "cell_type": "code",
   "execution_count": 7,
   "id": "a42ca637-e14e-461b-bb37-6e85eb6c14ee",
   "metadata": {},
   "outputs": [
    {
     "name": "stdout",
     "output_type": "stream",
     "text": [
      "[[          1           2           3 ...  -623993456 -1853733644\n",
      "   1977800241]\n",
      " [          2           3           4 ... -1065091072   439877632\n",
      "  -1190133760]\n",
      " [          3           4           5 ...   433376484 -1641877750\n",
      "  -1199696159]]\n"
     ]
    }
   ],
   "source": [
    "Z = utils.MyUtils.z_transform2(X, degree)\n",
    "print(Z)"
   ]
  },
  {
   "cell_type": "code",
   "execution_count": 8,
   "id": "70676424-4428-4890-9ac7-6fae3bfa5e0d",
   "metadata": {},
   "outputs": [
    {
     "name": "stdout",
     "output_type": "stream",
     "text": [
      "Elapsed Time:  0.20623639999999988\n"
     ]
    }
   ],
   "source": [
    "endTime = time.perf_counter()\n",
    "print(\"Elapsed Time: \", (endTime - startTime))"
   ]
  }
 ],
 "metadata": {
  "kernelspec": {
   "display_name": "Python 3 (ipykernel)",
   "language": "python",
   "name": "python3"
  },
  "language_info": {
   "codemirror_mode": {
    "name": "ipython",
    "version": 3
   },
   "file_extension": ".py",
   "mimetype": "text/x-python",
   "name": "python",
   "nbconvert_exporter": "python",
   "pygments_lexer": "ipython3",
   "version": "3.9.7"
  }
 },
 "nbformat": 4,
 "nbformat_minor": 5
}
