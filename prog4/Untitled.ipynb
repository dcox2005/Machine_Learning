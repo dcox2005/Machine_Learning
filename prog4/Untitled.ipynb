{
 "cells": [
  {
   "cell_type": "code",
   "execution_count": 1,
   "id": "fdc2cfd1-d303-4692-93d4-8b1f13c28f13",
   "metadata": {},
   "outputs": [],
   "source": [
    "from unittest import loader\n",
    "import numpy as np\n",
    "import pandas as pd\n",
    "\n",
    "from numpy.random import rand as rand\n",
    "from numpy.random import seed as seed\n",
    "\n",
    "from code_linear_regression import linear_regression as LR\n",
    "from misc.utils import MyUtils"
   ]
  },
  {
   "cell_type": "code",
   "execution_count": null,
   "id": "c5ad2c92-0f61-4a26-96a8-07540f20473a",
   "metadata": {},
   "outputs": [],
   "source": [
    "def main():\n",
    "    (X_train,y_train,X_test,y_test) = loadData()\n",
    "    testCF(X_train,y_train,X_test,y_test)\n",
    "    # testGD(X_train,y_train,X_test,y_test)"
   ]
  },
  {
   "cell_type": "code",
   "execution_count": null,
   "id": "d50716c1-60eb-4f5e-9a8f-83792fc2d6ff",
   "metadata": {},
   "outputs": [],
   "source": [
    "def testGD(X_train,y_train,X_test,y_test):\n",
    "    errors = loadErrors('GD_Error.npz')\n",
    "    threshold = 1\n",
    "    row = 0\n",
    "\n",
    "    for lam in [0,10]:\n",
    "        for z_r in [1,2]:\n",
    "            for eta in [0.01,0.001]:\n",
    "                lr = LR.LinearRegression() #Create a new lr object each time. No assumption made that the weights will reset.\n",
    "                lr.fit(X_train, y_train, CF = False, lam = lam, eta = eta, epochs = 10000, degree = z_r)\n",
    "                train_error = lr.error(X_train, y_train)\n",
    "                test_error = lr.error(X_test, y_test)\n",
    "\n",
    "                (mikes_train_error,mikes_test_error) = errors[row]\n",
    "                row+=1\n",
    "                if abs(mikes_test_error - test_error) > threshold or abs(mikes_train_error - train_error) > threshold:\n",
    "                    print(f'For GD, and the following params:\\nlam: {lam}, z_r: {z_r}, eta: {eta}')\n",
    "                    print(f'Expected train/test error:\\n{mikes_train_error}, {mikes_test_error}')\n",
    "                    print(f'Found train/test error:\\n{train_error}, {test_error}\\n')\n",
    "    print(\"Please note that for Gradient descent, 0 initialization of the weights is assumed.\")\n"
   ]
  },
  {
   "cell_type": "code",
   "execution_count": null,
   "id": "ab1b1e12-768c-4091-8764-95e86e4afd9e",
   "metadata": {},
   "outputs": [],
   "source": [
    "def testCF(X_train,y_train,X_test,y_test):\n",
    "    errors = loadErrors('CF_Error.npz')\n",
    "    threshold = 1\n",
    "    row = 0\n",
    "\n",
    "    for lam in [0,0.1]:\n",
    "        for z_r in [1,2,4]:\n",
    "            lr = LR.LinearRegression() #Create a new lr object each time. No assumption made that the weights will reset.\n",
    "            lr.fit(X_train, y_train, CF = True, lam = lam, eta = 0.01, epochs = 1000, degree = z_r)\n",
    "            train_error = lr.error(X_train, y_train)\n",
    "            test_error = lr.error(X_test, y_test)\n",
    "\n",
    "            (mikes_train_error,mikes_test_error) = errors[row]\n",
    "            row+=1\n",
    "            if abs(mikes_test_error - test_error) > threshold or abs(mikes_train_error - train_error) > threshold:\n",
    "                print(f'For CF, and the following params:\\nlam: {lam}, z_r: {z_r}')\n",
    "                print(f'Expected train/test error:\\n{mikes_train_error}, {mikes_test_error}')\n",
    "                print(f'Found train/test error:\\n{train_error}, {test_error}\\n')\n"
   ]
  },
  {
   "cell_type": "code",
   "execution_count": null,
   "id": "8920e208-db00-4ffc-a26b-4040fca28aa1",
   "metadata": {},
   "outputs": [],
   "source": [
    "def loadErrors(file):\n",
    "    container = np.load(file)\n",
    "    data = [container[key] for key in container]\n",
    "    errors = np.array(data)\n",
    "    return errors"
   ]
  },
  {
   "cell_type": "code",
   "execution_count": null,
   "id": "67d65af6-9d21-4b01-86df-46938f7ea2d0",
   "metadata": {},
   "outputs": [],
   "source": [
    "def loadData():\n",
    "    #Reads the files into pandas dataframes from the respective .csv files.\n",
    "    df_X_train = pd.read_csv('code_linear_regression/houseprice/x_train.csv', header=None)\n",
    "    df_y_train = pd.read_csv('code_linear_regression/houseprice/y_train.csv', header=None)\n",
    "    df_X_test = pd.read_csv('code_linear_regression/houseprice/x_test.csv', header=None)\n",
    "    df_y_test = pd.read_csv('code_linear_regression/houseprice/y_test.csv', header=None)\n",
    "\n",
    "    #Convert the input data into numpy arrays and normalize.\n",
    "    X_train = df_X_train.to_numpy()\n",
    "    X_test = df_X_test.to_numpy()\n",
    "    n_train = X_train.shape[0]\n",
    "\n",
    "    X_all = MyUtils.normalize_0_1(np.concatenate((X_train, X_test), axis=0))\n",
    "    X_train = X_all[:n_train]\n",
    "    X_test = X_all[n_train:]\n",
    "\n",
    "    y_train = df_y_train.to_numpy()\n",
    "    y_test = df_y_test.to_numpy()\n",
    "\n",
    "    #Insure that the data correctly loaded in.\n",
    "    assert X_train.shape == (404, 13), \"Incorrect input, expected (404, 13), found \" + X_train.shape\n",
    "    assert y_train.shape == (404,1), \"Incorrect input, expected (404, 1), found \" + y_train.shape\n",
    "    assert X_test.shape  == (102,13), \"Incorrect input, expected (102, 13), found \" + X_test.shape\n",
    "    assert y_test.shape  == (102,1), \"Incorrect input, expected (102, 1), found \" + y_test.shape\n",
    "\n",
    "    return (X_train,y_train,X_test,y_test)\n"
   ]
  },
  {
   "cell_type": "code",
   "execution_count": null,
   "id": "48389395-383d-4e47-8bc3-956f89dc3048",
   "metadata": {},
   "outputs": [],
   "source": [
    "if __name__ == '__main__':\n",
    "    main()"
   ]
  }
 ],
 "metadata": {
  "kernelspec": {
   "display_name": "Python 3 (ipykernel)",
   "language": "python",
   "name": "python3"
  },
  "language_info": {
   "codemirror_mode": {
    "name": "ipython",
    "version": 3
   },
   "file_extension": ".py",
   "mimetype": "text/x-python",
   "name": "python",
   "nbconvert_exporter": "python",
   "pygments_lexer": "ipython3",
   "version": "3.9.7"
  }
 },
 "nbformat": 4,
 "nbformat_minor": 5
}
