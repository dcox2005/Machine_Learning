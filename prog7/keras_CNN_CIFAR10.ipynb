{
 "cells": [
  {
   "cell_type": "code",
   "execution_count": 1,
   "id": "4162e43f-a69b-4489-8241-c173e39155f8",
   "metadata": {},
   "outputs": [],
   "source": [
    "#David Cox 284331"
   ]
  },
  {
   "cell_type": "code",
   "execution_count": 2,
   "id": "ef89eeb6-677a-4832-b951-2bf9fb3f1b0a",
   "metadata": {},
   "outputs": [],
   "source": [
    "import tensorflow\n",
    "from tensorflow.keras.datasets import cifar10\n",
    "from tensorflow.keras.utils import to_categorical\n",
    "from tensorflow.keras import layers\n",
    "from tensorflow.keras import models\n",
    "import ssl\n",
    "ssl._create_default_https_context = ssl._create_unverified_context"
   ]
  },
  {
   "cell_type": "code",
   "execution_count": 3,
   "id": "0057389a-2b1d-4cbe-b440-f07f8f504720",
   "metadata": {},
   "outputs": [],
   "source": [
    "(x_train, y_train), (x_test, y_test) = cifar10.load_data()\n",
    "train_x = x_train.astype('float32') / 255 # normalization\n",
    "test_x = x_test.astype('float32') / 255\n",
    "train_y = to_categorical(y_train) # create label vectors\n",
    "test_y = to_categorical(y_test)"
   ]
  },
  {
   "cell_type": "code",
   "execution_count": 4,
   "id": "0969a84a-7680-43f3-99b7-afdbdd26b021",
   "metadata": {},
   "outputs": [],
   "source": [
    "model = models.Sequential()"
   ]
  },
  {
   "cell_type": "code",
   "execution_count": 10,
   "id": "730084a6-7894-49c7-9b6f-15a563a90660",
   "metadata": {},
   "outputs": [],
   "source": [
    "# model.add(layers.Conv2D(filters = 32, kernel_size = (5, 5), padding=\"valid\", activation='relu', input_shape=(32, 32, 3)))\n",
    "model.add(layers.Conv2D(32, (3, 3),  padding=\"same\", activation='relu', input_shape=(32, 32, 3))) \n",
    "model.add(layers.MaxPooling2D((2, 2)))\n",
    "model.add(layers.Conv2D(64, (3, 3), padding=\"same\", activation='relu'))\n",
    "model.add(layers.MaxPooling2D((2, 2)))\n",
    "model.add(layers.Conv2D(128, (3, 3), padding=\"same\", activation='relu'))\n",
    "model.add(layers.MaxPooling2D((2, 2)))\n",
    "model.add(layers.Conv2D(256, (3, 3), padding=\"same\", activation='relu'))\n",
    "model.add(layers.MaxPooling2D((2, 2)))\n",
    "model.add(layers.Flatten())\n",
    "model.add(layers.Dense(256, activation='relu'))\n",
    "model.add(layers.Dense(10, activation='softmax'))\n",
    "\n",
    "#Total params: 653,386\n",
    "#epochs 5\n",
    "#Epoch 1/5\n",
    "# 782/782 [==============================] - 60s 76ms/step - loss: 1.5693 - accuracy: 0.4292 - val_loss: 1.1389 - val_accuracy: 0.5982\n",
    "# Epoch 2/5\n",
    "# 782/782 [==============================] - 66s 84ms/step - loss: 1.0547 - accuracy: 0.6266 - val_loss: 1.1085 - val_accuracy: 0.6026\n",
    "# Epoch 3/5\n",
    "# 782/782 [==============================] - 67s 85ms/step - loss: 0.8390 - accuracy: 0.7077 - val_loss: 1.0545 - val_accuracy: 0.6527\n",
    "# Epoch 4/5\n",
    "# 782/782 [==============================] - 67s 86ms/step - loss: 0.6902 - accuracy: 0.7589 - val_loss: 0.8784 - val_accuracy: 0.6914\n",
    "# Epoch 5/5\n",
    "# 782/782 [==============================] - 67s 85ms/step - loss: 0.5749 - accuracy: 0.7998 - val_loss: 1.2141 - val_accuracy: 0.6616\n",
    "\n",
    "#Total params: 653,386\n",
    "#epochs 10\n",
    "# #Epoch 1/10\n",
    "# 782/782 [==============================] - 64s 82ms/step - loss: 1.5859 - accuracy: 0.4262 - val_loss: 1.2561 - val_accuracy: 0.5460\n",
    "# Epoch 2/10\n",
    "# 782/782 [==============================] - 67s 86ms/step - loss: 1.0780 - accuracy: 0.6209 - val_loss: 1.0868 - val_accuracy: 0.6127\n",
    "# Epoch 3/10\n",
    "# 782/782 [==============================] - 67s 86ms/step - loss: 0.8440 - accuracy: 0.7045 - val_loss: 0.9371 - val_accuracy: 0.6705\n",
    "# Epoch 4/10\n",
    "# 782/782 [==============================] - 71s 91ms/step - loss: 0.6961 - accuracy: 0.7563 - val_loss: 0.9658 - val_accuracy: 0.6809\n",
    "# Epoch 5/10\n",
    "# 782/782 [==============================] - 89s 114ms/step - loss: 0.5789 - accuracy: 0.8003 - val_loss: 0.9329 - val_accuracy: 0.6954\n",
    "# Epoch 6/10\n",
    "# 782/782 [==============================] - 88s 113ms/step - loss: 0.4792 - accuracy: 0.8327 - val_loss: 0.9011 - val_accuracy: 0.7193\n",
    "# Epoch 7/10\n",
    "# 782/782 [==============================] - 89s 113ms/step - loss: 0.3912 - accuracy: 0.8628 - val_loss: 1.0428 - val_accuracy: 0.7183\n",
    "# Epoch 8/10\n",
    "# 782/782 [==============================] - 88s 112ms/step - loss: 0.3267 - accuracy: 0.8859 - val_loss: 0.9863 - val_accuracy: 0.7323\n",
    "# Epoch 9/10\n",
    "# 782/782 [==============================] - 88s 113ms/step - loss: 0.2740 - accuracy: 0.9039 - val_loss: 1.1272 - val_accuracy: 0.7413\n",
    "# Epoch 10/10\n",
    "# 782/782 [==============================] - 87s 111ms/step - loss: 0.2394 - accuracy: 0.9180 - val_loss: 1.3203 - val_accuracy: 0.7266"
   ]
  },
  {
   "cell_type": "code",
   "execution_count": 11,
   "id": "35d0a14d-72a5-4a03-82e6-423f130d5729",
   "metadata": {},
   "outputs": [
    {
     "name": "stdout",
     "output_type": "stream",
     "text": [
      "Model: \"sequential\"\n",
      "_________________________________________________________________\n",
      " Layer (type)                Output Shape              Param #   \n",
      "=================================================================\n",
      " conv2d (Conv2D)             (None, 32, 32, 32)        896       \n",
      "                                                                 \n",
      " max_pooling2d (MaxPooling2D  (None, 16, 16, 32)       0         \n",
      " )                                                               \n",
      "                                                                 \n",
      " conv2d_1 (Conv2D)           (None, 16, 16, 64)        18496     \n",
      "                                                                 \n",
      " max_pooling2d_1 (MaxPooling  (None, 8, 8, 64)         0         \n",
      " 2D)                                                             \n",
      "                                                                 \n",
      " conv2d_2 (Conv2D)           (None, 8, 8, 128)         73856     \n",
      "                                                                 \n",
      " max_pooling2d_2 (MaxPooling  (None, 4, 4, 128)        0         \n",
      " 2D)                                                             \n",
      "                                                                 \n",
      " conv2d_3 (Conv2D)           (None, 4, 4, 256)         295168    \n",
      "                                                                 \n",
      " max_pooling2d_3 (MaxPooling  (None, 2, 2, 256)        0         \n",
      " 2D)                                                             \n",
      "                                                                 \n",
      " flatten (Flatten)           (None, 1024)              0         \n",
      "                                                                 \n",
      " dense (Dense)               (None, 256)               262400    \n",
      "                                                                 \n",
      " dense_1 (Dense)             (None, 10)                2570      \n",
      "                                                                 \n",
      "=================================================================\n",
      "Total params: 653,386\n",
      "Trainable params: 653,386\n",
      "Non-trainable params: 0\n",
      "_________________________________________________________________\n"
     ]
    }
   ],
   "source": [
    "model.summary()"
   ]
  },
  {
   "cell_type": "code",
   "execution_count": 12,
   "id": "d03dd7fe-9ed4-43c7-b091-0ef35f0191ec",
   "metadata": {},
   "outputs": [],
   "source": [
    "model.compile(optimizer='rmsprop', loss='categorical_crossentropy', metrics=['accuracy'])"
   ]
  },
  {
   "cell_type": "code",
   "execution_count": 13,
   "id": "b1ab9d27-6dd1-46ce-ad55-5b7b8bcb18a9",
   "metadata": {},
   "outputs": [
    {
     "name": "stdout",
     "output_type": "stream",
     "text": [
      "Epoch 1/10\n",
      "782/782 [==============================] - 64s 82ms/step - loss: 1.5859 - accuracy: 0.4262 - val_loss: 1.2561 - val_accuracy: 0.5460\n",
      "Epoch 2/10\n",
      "782/782 [==============================] - 67s 86ms/step - loss: 1.0780 - accuracy: 0.6209 - val_loss: 1.0868 - val_accuracy: 0.6127\n",
      "Epoch 3/10\n",
      "782/782 [==============================] - 67s 86ms/step - loss: 0.8440 - accuracy: 0.7045 - val_loss: 0.9371 - val_accuracy: 0.6705\n",
      "Epoch 4/10\n",
      "782/782 [==============================] - 71s 91ms/step - loss: 0.6961 - accuracy: 0.7563 - val_loss: 0.9658 - val_accuracy: 0.6809\n",
      "Epoch 5/10\n",
      "782/782 [==============================] - 89s 114ms/step - loss: 0.5789 - accuracy: 0.8003 - val_loss: 0.9329 - val_accuracy: 0.6954\n",
      "Epoch 6/10\n",
      "782/782 [==============================] - 88s 113ms/step - loss: 0.4792 - accuracy: 0.8327 - val_loss: 0.9011 - val_accuracy: 0.7193\n",
      "Epoch 7/10\n",
      "782/782 [==============================] - 89s 113ms/step - loss: 0.3912 - accuracy: 0.8628 - val_loss: 1.0428 - val_accuracy: 0.7183\n",
      "Epoch 8/10\n",
      "782/782 [==============================] - 88s 112ms/step - loss: 0.3267 - accuracy: 0.8859 - val_loss: 0.9863 - val_accuracy: 0.7323\n",
      "Epoch 9/10\n",
      "782/782 [==============================] - 88s 113ms/step - loss: 0.2740 - accuracy: 0.9039 - val_loss: 1.1272 - val_accuracy: 0.7413\n",
      "Epoch 10/10\n",
      "782/782 [==============================] - 87s 111ms/step - loss: 0.2394 - accuracy: 0.9180 - val_loss: 1.3203 - val_accuracy: 0.7266\n"
     ]
    }
   ],
   "source": [
    "history = model.fit(train_x, train_y, batch_size=64, epochs=10, validation_data=(test_x, test_y),)"
   ]
  },
  {
   "cell_type": "code",
   "execution_count": 14,
   "id": "0a8ec370-4d37-429f-82ab-138635a4b575",
   "metadata": {},
   "outputs": [
    {
     "name": "stdout",
     "output_type": "stream",
     "text": [
      "INFO:tensorflow:Assets written to: keras_CNN_CIFAR10.model\\assets\n"
     ]
    }
   ],
   "source": [
    "model.save('keras_CNN_CIFAR10.model')"
   ]
  }
 ],
 "metadata": {
  "kernelspec": {
   "display_name": "Python 3 (ipykernel)",
   "language": "python",
   "name": "python3"
  },
  "language_info": {
   "codemirror_mode": {
    "name": "ipython",
    "version": 3
   },
   "file_extension": ".py",
   "mimetype": "text/x-python",
   "name": "python",
   "nbconvert_exporter": "python",
   "pygments_lexer": "ipython3",
   "version": "3.9.7"
  }
 },
 "nbformat": 4,
 "nbformat_minor": 5
}
