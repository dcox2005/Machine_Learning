{
 "cells": [
  {
   "cell_type": "markdown",
   "id": "e8acc4cd-d9a5-4bc3-a7aa-dc3a238b8b53",
   "metadata": {},
   "source": [
    "# Implement the PLA for classfication in the 2d space. Data set and classifier are randomly picked. \n",
    "\n",
    "## Author: Bojian Xu, bojianxu@ewu.edu\n",
    "\n",
    "- In this implementation, we have ensured in the random number generaion phase: \n",
    "    - neither $w^*[1]$ nor $w^*[2]$ is zero.\n",
    "    - no randomly generated sample is at $w^*$, i.e. ${w^*}^T x \\neq 0$ for every sample $x$. \n",
    "- Important observation: \n",
    "    - The PLA can increase or decrease $w[0]$ by 1 per update, so if there is a big difference between $w^*[0]$ and the initial value of $w[0]$, the PLA is likely to take a long time before it halts. However, the theoretical bound $O((L/d)^2)$ step of course still holds, where $L = \\max\\{\\lVert x\\rVert\\}$ and $d$ is the margine size.\n",
    "    - This can solved by always have feature values within [0,1], because by doing so, the $x_0=1$ becomes relatively larger (or one can also say $x_0$ becomes fairly as important as other feathers), which makes the changes to $w[0]$ much faster. This is partially why nueral network requires all feature value to be [0,1] --- the so-called data normalization process!!!\n",
    "   - Why the algorithm runs longer when $w^*$ is (nearly) purely vertical or horizontal? --> Not the case. The program takes time as usual. Question is solved. \n",
    "    "
   ]
  },
  {
   "cell_type": "code",
   "execution_count": 1,
   "id": "ede9d43f-189a-4484-8474-e8b03997bdbb",
   "metadata": {},
   "outputs": [],
   "source": [
    "import numpy as np\n",
    "from IPython.display import clear_output\n",
    "from numpy.random import seed as seed\n",
    "from numpy.random import rand as rand\n",
    "import matplotlib.pyplot as plt\n",
    "import math"
   ]
  },
  {
   "cell_type": "code",
   "execution_count": 2,
   "id": "4e0a8cb5-7c11-4009-8b00-9479e90d6fb1",
   "metadata": {},
   "outputs": [],
   "source": [
    "seed()"
   ]
  },
  {
   "cell_type": "code",
   "execution_count": 3,
   "id": "54da9235-46e0-4441-b08f-e95937c58c16",
   "metadata": {},
   "outputs": [],
   "source": [
    "n = 100 #number of samples\n",
    "delta = 0.01"
   ]
  },
  {
   "cell_type": "code",
   "execution_count": 4,
   "id": "2aab932f-1f9b-47eb-86ac-1de5e809b15e",
   "metadata": {},
   "outputs": [],
   "source": [
    "def display_w_2D(w, color):\n",
    "    xrange = np.arange(0.0, 1.0, delta)\n",
    "    yrange = np.arange(0.0, 1.0, delta)\n",
    "    x1, x2 = np.meshgrid(xrange,yrange)\n",
    "\n",
    "    # F is one side of the equation, G is the other\n",
    "    F = w[0] + w[1] * x1 + w[2] * x2\n",
    "\n",
    "    plt.contour(x1, x2, (F), [0], colors = color)"
   ]
  },
  {
   "cell_type": "code",
   "execution_count": 5,
   "id": "efb6eca3-32b9-4a22-9188-f7d59c690af1",
   "metadata": {},
   "outputs": [],
   "source": [
    "# generate a w_star, d = 2\n",
    "def w_star_gen():\n",
    "    w_star = rand(3,1)\n",
    "    while w_star[1,0] * w_star[2,0] == 0: # To ensure neither w1 nor w2 is zero to get an interesting w.\n",
    "        w_star = rand(3,1)\n",
    "    w_star[1,0] = w_star[1,0] * (-1)   # To ensure to have both +1 and -1 labels with good chance because all x1 >= 0 and x2 >= 0 \n",
    "    w_star[0,0] = w_star[0,0] * min(abs(w_star[1,0]),abs(w_star[2,0])) # this is to ensure w_0/w_1 < 1 and w_0/w_2 < 1, so that the appropriate intercept can divide the data set into postive and negative samples\n",
    "    #w_star[2,0] = 0\n",
    "    \n",
    "    return w_star"
   ]
  },
  {
   "cell_type": "code",
   "execution_count": 6,
   "id": "10c58778-8643-409c-8d91-e0f270d6e821",
   "metadata": {},
   "outputs": [
    {
     "name": "stdout",
     "output_type": "stream",
     "text": [
      "w_star: \n",
      " [[ 0.00548244]\n",
      " [-0.39589587]\n",
      " [ 0.01966132]]\n"
     ]
    },
    {
     "data": {
      "image/png": "[encoded data removed]",
      "text/plain": [
       "<Figure size 432x288 with 1 Axes>"
      ]
     },
     "metadata": {
      "needs_background": "light"
     },
     "output_type": "display_data"
    }
   ],
   "source": [
    "# n samples. Each sample includes: x0=1, x1, x2\n",
    "x = rand(n,3) #* n\n",
    "x[:,0] = 1\n",
    "\n",
    "#The target weight vector the PLA is going to search for\n",
    "w_star = w_star_gen()\n",
    "print('w_star: \\n', w_star)\n",
    "\n",
    "\n",
    "#create the label array\n",
    "y = np.sign(x @ w_star)\n",
    "for i in range(n):\n",
    "    if y[i] == 0:\n",
    "        x[i,2] = x[i,2] + 0.1 # adjust the sample to make sure the sample is not on the w_star line.\n",
    "        y[i] = np.sign(x[i] @ w_star)\n",
    "        \n",
    "        \n",
    "# separate + and - samples for plotting     \n",
    "pos = np.empty([1,3])\n",
    "neg = np.empty([1,3])\n",
    "for i in range(n):\n",
    "    if y[i] == 1:\n",
    "        pos = np.insert(pos, 0, x[i], 0)\n",
    "    else: \n",
    "        neg = np.insert(neg, 0, x[i], 0)\n",
    "# delete the init row which is on the bottom        \n",
    "pos = np.delete(pos, -1, 0)\n",
    "neg = np.delete(neg, -1, 0)\n",
    "\n",
    "\n",
    "# display the data samples and the target classifier that PLA is tring to learn\n",
    "plt.scatter(pos[:,1], pos[:,2], marker='+')\n",
    "plt.scatter(neg[:,1], neg[:,2], marker='_')\n",
    "\n",
    "display_w_2D(w_star, color = 'green')\n",
    "\n",
    "plt.xlabel('x1')\n",
    "plt.ylabel('x2')\n",
    "plt.show()"
   ]
  },
  {
   "cell_type": "code",
   "execution_count": 7,
   "id": "656ef1a9-98ae-45bf-bd63-6e10d5815b1a",
   "metadata": {},
   "outputs": [
    {
     "data": {
      "image/png": "[encoded data removed]",
      "text/plain": [
       "<Figure size 432x288 with 1 Axes>"
      ]
     },
     "metadata": {
      "needs_background": "light"
     },
     "output_type": "display_data"
    },
    {
     "name": "stdout",
     "output_type": "stream",
     "text": [
      "w: \n",
      " [[  0.        ]\n",
      " [-31.85586999]\n",
      " [  2.17408088]]\n"
     ]
    }
   ],
   "source": [
    "#The PLA to find the separating vector w\n",
    "# This code is to demonstrate the 2-dimentional space case, but can be trivially modified to make it work for any d-dimentional space.\n",
    "# This code can also be organized as a function: take matrix x and vector y, and return vector w. \n",
    "\n",
    "w = np.array([0,0,0]).reshape(-1,1)\n",
    "print('w: \\n', w)\n",
    "\n",
    "updated = True\n",
    "while updated:\n",
    "    updated = False\n",
    "    for i in range(n):\n",
    "        if np.sign(x[i] @ w) != y[i]:\n",
    "        #if (x[i] @ w <= 0 and y[i,0] == 1) or (x[i] @ w >= 0 and y[i,0] == -1):\n",
    "            w = w + (y[i] * x[i]).reshape(-1,1)\n",
    "            updated = True\n",
    "\n",
    "            clear_output(wait=True)\n",
    "\n",
    "            # display the data samples and the target/learned classifiers\n",
    "            plt.scatter(pos[:,1], pos[:,2], marker='+')\n",
    "            plt.scatter(neg[:,1], neg[:,2], marker='_')\n",
    "            display_w_2D(w_star, color = 'green') #display the target classifier.\n",
    "            display_w_2D(w, color = 'red') #display the learned classifier.\n",
    "            plt.xlabel('x1')\n",
    "            plt.ylabel('x2')\n",
    "            plt.show()\n",
    "            \n",
    "            print('w: \\n', w)\n",
    "\n"
   ]
  },
  {
   "cell_type": "markdown",
   "id": "a05db644-2499-4fb2-b97e-97144ea31236",
   "metadata": {
    "tags": []
   },
   "source": [
    "## Possible Work for students: \n",
    "\n",
    "- implement the pocket PLA for 2d samples for a straight line classifier in 2d space\n",
    "\n",
    "- implement PLA for 3d samples that are linearly separatable and the classifier is a 3d plane, and have the data and classifier plotted. Implement the pocket version for 3d samples that are not linearly separable. \n",
    "\n",
    "- implement PLA for 2d samples but use z-space transformation, where the data set is separatable in the polynomial space of degree 2. Implement the pocket version\n",
    "\n",
    "\n"
   ]
  }
 ],
 "metadata": {
  "kernelspec": {
   "display_name": "Python 3 (ipykernel)",
   "language": "python",
   "name": "python3"
  },
  "language_info": {
   "codemirror_mode": {
    "name": "ipython",
    "version": 3
   },
   "file_extension": ".py",
   "mimetype": "text/x-python",
   "name": "python",
   "nbconvert_exporter": "python",
   "pygments_lexer": "ipython3",
   "version": "3.9.7"
  }
 },
 "nbformat": 4,
 "nbformat_minor": 5
}
