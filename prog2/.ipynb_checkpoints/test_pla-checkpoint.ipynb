{
 "cells": [
  {
   "cell_type": "code",
   "execution_count": 1,
   "id": "8f33fa54-d3bf-4af8-9c18-f516fc6874f0",
   "metadata": {},
   "outputs": [],
   "source": [
    "import numpy as np\n",
    "from IPython.display import clear_output\n",
    "from numpy.random import seed as seed\n",
    "from numpy.random import rand as rand\n",
    "import matplotlib.pyplot as plt\n",
    "import math\n",
    "\n",
    "import pla"
   ]
  },
  {
   "cell_type": "code",
   "execution_count": 2,
   "id": "1024232d-d9ab-49c3-86b7-c207d1bfd6d0",
   "metadata": {},
   "outputs": [],
   "source": [
    "seed()"
   ]
  },
  {
   "cell_type": "code",
   "execution_count": 3,
   "id": "9092c62c-ea02-4a07-8caa-6fd2a347e16a",
   "metadata": {},
   "outputs": [],
   "source": [
    "n = 100 #number of samples\n",
    "delta = 0.01\n",
    "\n",
    "messed  = True       \n",
    "# messed = False \n",
    "mess_percent = 0.02\n",
    "epochs = 200"
   ]
  },
  {
   "cell_type": "code",
   "execution_count": 4,
   "id": "b9e19e56-3182-4302-b784-78c07a8d4a26",
   "metadata": {},
   "outputs": [],
   "source": [
    "def display_w_2D(w, color):\n",
    "    xrange = np.arange(0.0, 1.0, delta)\n",
    "    yrange = np.arange(0.0, 1.0, delta)\n",
    "    x1, x2 = np.meshgrid(xrange,yrange)\n",
    "\n",
    "    # F is one side of the equation, G is the other\n",
    "    F = w[0] + w[1] * x1 + w[2] * x2\n",
    "\n",
    "    plt.contour(x1, x2, (F), [0], colors = color)"
   ]
  },
  {
   "cell_type": "code",
   "execution_count": 5,
   "id": "c9b5c4a3-6595-4944-83cb-7241ad2cc9a4",
   "metadata": {},
   "outputs": [],
   "source": [
    "# generate a w_star, d = 2\n",
    "def w_star_gen_2d():\n",
    "    w_star = rand(3,1)\n",
    "    while w_star[1,0] * w_star[2,0] == 0: # To ensure neither w1 nor w2 is zero to get an interesting w.\n",
    "        w_star = rand(3,1)\n",
    "    w_star[1,0] = w_star[1,0] * (-1)   # To ensure to have both +1 and -1 labels with good chance because all x1 >= 0 and x2 >= 0 \n",
    "    w_star[0,0] = w_star[0,0] * min(abs(w_star[1,0]),abs(w_star[2,0])) # this is to ensure w_0/w_1 < 1 and w_0/w_2 < 1, so that the appropriate intercept can divide the data set into postive and negative samples\n",
    "    #w_star[2,0] = 0\n",
    "    \n",
    "    return w_star"
   ]
  },
  {
   "cell_type": "code",
   "execution_count": 6,
   "id": "52d5ecb4-8ca3-4e1c-96bf-51076ec636a2",
   "metadata": {},
   "outputs": [
    {
     "name": "stdout",
     "output_type": "stream",
     "text": [
      "w_star: \n",
      " [[ 0.04163295]\n",
      " [-0.60600677]\n",
      " [ 0.16393171]]\n"
     ]
    },
    {
     "data": {
      "image/png": "[encoded data removed]",
      "text/plain": [
       "<Figure size 432x288 with 1 Axes>"
      ]
     },
     "metadata": {
      "needs_background": "light"
     },
     "output_type": "display_data"
    }
   ],
   "source": [
    "# n samples. Each sample includes: x0=1, x1, x2\n",
    "x = rand(n,3) #* n\n",
    "x[:,0] = 1\n",
    "\n",
    "#The target weight vector the PLA is going to search for\n",
    "w_star = w_star_gen_2d()\n",
    "print('w_star: \\n', w_star)\n",
    "\n",
    "\n",
    "#create the label array\n",
    "y = np.sign(x @ w_star)\n",
    "for i in range(n):\n",
    "    if y[i] == 0:\n",
    "        x[i,2] = x[i,2] + 0.1 # adjust the sample to make sure the sample is not on the w_star line.\n",
    "        y[i] = np.sign(x[i] @ w_star)\n",
    "\n",
    "\n",
    "# ---------------------------------        \n",
    "# mess up mess_percent of the samples to test pocket pla      \n",
    "if messed: \n",
    "    for i in range(math.floor(n * mess_percent)):\n",
    "        r = math.floor(rand()*n)\n",
    "        y[r] = y[r] * (-1)\n",
    "# ---------------------------------        \n",
    "\n",
    "    \n",
    "# separate + and - samples for plotting     \n",
    "pos = np.empty([1,3])\n",
    "neg = np.empty([1,3])\n",
    "for i in range(n):\n",
    "    if y[i] == 1:\n",
    "        pos = np.insert(pos, 0, x[i], 0)\n",
    "    else: \n",
    "        neg = np.insert(neg, 0, x[i], 0)\n",
    "# delete the init/useless row which is on the bottom        \n",
    "pos = np.delete(pos, -1, 0)\n",
    "neg = np.delete(neg, -1, 0)\n",
    "\n",
    "\n",
    "# display the data samples and the target classifier that PLA is tring to learn\n",
    "plt.scatter(pos[:,1], pos[:,2], marker='+')\n",
    "plt.scatter(neg[:,1], neg[:,2], marker='_')\n",
    "\n",
    "display_w_2D(w_star, color = 'green')\n",
    "\n",
    "plt.xlabel('x1')\n",
    "plt.ylabel('x2')\n",
    "plt.show()"
   ]
  },
  {
   "cell_type": "code",
   "execution_count": 7,
   "id": "db2d14db-a045-4991-86db-6446636a4535",
   "metadata": {},
   "outputs": [
    {
     "name": "stdout",
     "output_type": "stream",
     "text": [
      "w:\n",
      " [[ 0.        ]\n",
      " [-4.66956508]\n",
      " [ 1.86703235]]\n"
     ]
    },
    {
     "data": {
      "image/png": "[encoded data removed]",
      "text/plain": [
       "<Figure size 432x288 with 1 Axes>"
      ]
     },
     "metadata": {
      "needs_background": "light"
     },
     "output_type": "display_data"
    }
   ],
   "source": [
    "perceptron = pla.PLA()\n",
    "\n",
    "if messed: \n",
    "    perceptron.fit(x[:,1:], y, pocket=True, epochs = epochs)\n",
    "else: \n",
    "    perceptron.fit(x[:,1:], y, pocket=False)\n",
    "\n",
    "print('w:\\n', perceptron.w)\n",
    "\n",
    "\n",
    "\n",
    "# display the data samples and the target classifier that PLA is tring to learn\n",
    "plt.scatter(pos[:,1], pos[:,2], marker='+')\n",
    "plt.scatter(neg[:,1], neg[:,2], marker='_')\n",
    "\n",
    "display_w_2D(w_star, color = 'green')\n",
    "display_w_2D(perceptron.w, color = 'red')\n",
    "\n",
    "plt.xlabel('x1')\n",
    "plt.ylabel('x2')\n",
    "plt.show()"
   ]
  },
  {
   "cell_type": "code",
   "execution_count": 8,
   "id": "781d3221-d0a7-45f1-9f0c-5ddd2b144cbd",
   "metadata": {},
   "outputs": [
    {
     "name": "stdout",
     "output_type": "stream",
     "text": [
      "misclassified counts: 2\n",
      "\n",
      "\n"
     ]
    }
   ],
   "source": [
    "print('misclassified counts:', perceptron.error(x[:,1:],y))\n",
    "print('\\n')"
   ]
  },
  {
   "cell_type": "code",
   "execution_count": null,
   "id": "cbe4fe07-4fea-4775-97b9-47355e676cba",
   "metadata": {},
   "outputs": [],
   "source": []
  }
 ],
 "metadata": {
  "kernelspec": {
   "display_name": "Python 3 (ipykernel)",
   "language": "python",
   "name": "python3"
  },
  "language_info": {
   "codemirror_mode": {
    "name": "ipython",
    "version": 3
   },
   "file_extension": ".py",
   "mimetype": "text/x-python",
   "name": "python",
   "nbconvert_exporter": "python",
   "pygments_lexer": "ipython3",
   "version": "3.9.7"
  }
 },
 "nbformat": 4,
 "nbformat_minor": 5
}
